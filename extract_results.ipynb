{
 "cells": [
  {
   "cell_type": "code",
   "execution_count": 29,
   "id": "9786e7ce",
   "metadata": {},
   "outputs": [],
   "source": [
    "import os, re\n",
    "import numpy as np"
   ]
  },
  {
   "cell_type": "code",
   "execution_count": 30,
   "id": "891e279d",
   "metadata": {},
   "outputs": [],
   "source": [
    "raito = [0.01, 0.1]\n",
    "model = ['resnet50', 'vitb16', 'dinov2']\n",
    "seed = [0, 42, 1234]"
   ]
  },
  {
   "cell_type": "code",
   "execution_count": 31,
   "id": "68d27a57",
   "metadata": {},
   "outputs": [],
   "source": [
    "path = 'temp0.log'\n",
    "separator = 'done done done\\n'\n",
    "result_indicator = 'FINAL RESULTS:'"
   ]
  },
  {
   "cell_type": "code",
   "execution_count": 32,
   "id": "974bfc7e",
   "metadata": {},
   "outputs": [],
   "source": [
    "with open(path, 'r') as f:\n",
    "    log = f.read()\n",
    "    \n",
    "log_list = log.split(separator)\n",
    "log_list = [l for l in log_list if l.strip() != '']"
   ]
  },
  {
   "cell_type": "code",
   "execution_count": 33,
   "id": "b84267c7",
   "metadata": {},
   "outputs": [],
   "source": [
    "final_result_dict = {}\n",
    "best_results_dict = {}\n",
    "for l in log_list:\n",
    "    temp = l.split('\\n')\n",
    "    indice = temp.index(result_indicator)\n",
    "    best_result = temp[indice + 2]\n",
    "    final_result = temp[indice + 3]\n",
    "    \n",
    "    final_result_dict[temp[0]] = final_result\n",
    "    best_results_dict[temp[0]] = best_result"
   ]
  },
  {
   "cell_type": "code",
   "execution_count": null,
   "id": "2b7112f6",
   "metadata": {},
   "outputs": [],
   "source": [
    "# Full_shot 1 split results\n",
    "for m in model:\n",
    "        print(f'==================== {m} ====================')\n",
    "\n",
    "        for r in [1]:\n",
    "            print(f'********** {r} **********')\n",
    "            # for m in model:\n",
    "            for s in [0]:\n",
    "                key = f'{r} {m} {s}'\n",
    "                if key in final_result_dict:\n",
    "                    # print(f'Final Result: {final_result_dict[key]}')\n",
    "                    print(f'{best_results_dict[key]}')\n",
    "                else:\n",
    "                    print(f'No results for {key}')"
   ]
  },
  {
   "cell_type": "code",
   "execution_count": null,
   "id": "282174d3",
   "metadata": {},
   "outputs": [
    {
     "name": "stdout",
     "output_type": "stream",
     "text": [
      "==================== resnet50 ====================\n",
      "********** 0.01 **********\n",
      "21.907  5.389  6.767  10.172  10.560\n",
      "8.673  6.860  9.819  13.212  12.590\n",
      "16.336  6.168  11.628  8.739  7.406\n",
      "********** 0.1 **********\n",
      "47.290  15.194  17.234  15.961  16.457\n",
      "44.374  13.328  18.595  13.628  14.097\n",
      "45.159  13.518  14.720  14.364  15.990\n",
      "==================== vitb16 ====================\n",
      "********** 0.01 **********\n",
      "26.318  10.909  16.338  13.616  13.261\n",
      "10.916  7.647  17.042  13.607  13.272\n",
      "9.832  5.581  23.480  8.282  7.677\n",
      "********** 0.1 **********\n",
      "45.308  18.074  22.368  18.698  18.720\n",
      "42.355  16.569  20.371  16.285  16.277\n",
      "42.393  15.397  20.109  17.711  16.200\n",
      "==================== dinov2 ====================\n",
      "********** 0.01 **********\n",
      "22.168  8.543  14.578  13.341  15.299\n",
      "19.364  12.737  18.864  15.582  15.965\n",
      "18.991  11.578  17.846  16.895  16.472\n",
      "********** 0.1 **********\n",
      "48.037  18.149  18.959  19.459  18.307\n",
      "47.963  19.287  23.292  18.868  18.868\n",
      "46.467  17.847  18.678  18.989  18.864\n"
     ]
    }
   ],
   "source": [
    "# Few_shot 3 splits results\n",
    "for m in model:\n",
    "        print(f'==================== {m} ====================')\n",
    "\n",
    "        for r in raito:\n",
    "            print(f'********** {r} **********')\n",
    "            # for m in model:\n",
    "            for s in seed:\n",
    "                key = f'{r} {m} {s}'\n",
    "                if key in final_result_dict:\n",
    "                    # print(f'Final Result: {final_result_dict[key]}')\n",
    "                    print(f'{best_results_dict[key]}')\n",
    "                else:\n",
    "                    print(f'No results for {key}')"
   ]
  },
  {
   "cell_type": "code",
   "execution_count": null,
   "id": "17867d9e",
   "metadata": {},
   "outputs": [],
   "source": []
  }
 ],
 "metadata": {
  "kernelspec": {
   "display_name": "dpcore",
   "language": "python",
   "name": "python3"
  },
  "language_info": {
   "codemirror_mode": {
    "name": "ipython",
    "version": 3
   },
   "file_extension": ".py",
   "mimetype": "text/x-python",
   "name": "python",
   "nbconvert_exporter": "python",
   "pygments_lexer": "ipython3",
   "version": "3.9.7"
  }
 },
 "nbformat": 4,
 "nbformat_minor": 5
}
